{
 "cells": [
  {
   "cell_type": "code",
   "execution_count": 28,
   "metadata": {},
   "outputs": [],
   "source": [
    "class Graph:\n",
    "    def __init__(self,von):\n",
    "        self.vertex_count = von\n",
    "        self.adjacent_matrix=[[0]*von for e in range(von)]\n",
    "    \n",
    "    def add_edge(self,v,u):\n",
    "        weight=1\n",
    "        if 0<=v<self.vertex_count and 0<=u<self.vertex_count:\n",
    "            self.adjacent_matrix[v][u] = weight\n",
    "            self.adjacent_matrix[u][v] = weight\n",
    "        else:\n",
    "            print(\"Invalid vertex index\")\n",
    "    \n",
    "    def add_remove(self,v,u):\n",
    "        if 0<=v<self.vertex_count and 0<=u<self.vertex_count:\n",
    "            self.adjacent_matrix[v][u] = 0\n",
    "            self.adjacent_matrix[u][v] = 0\n",
    "        else:\n",
    "            print(\"Invalid vertex index\")\n",
    "    \n",
    "    def has_edge(self,u,v):\n",
    "        if 0<=v<self.vertex_count and 0<=u<self.vertex_count:\n",
    "            return self.adjacent_matrix[u][v]!=0\n",
    "        else:\n",
    "             print(\"Invalid vertex index\")\n",
    "    \n",
    "    def print_matrix(self):\n",
    "        for row in self.adjacent_matrix:\n",
    "            print(\" \".join(map(str,row)))\n",
    "        \n"
   ]
  },
  {
   "cell_type": "code",
   "execution_count": 30,
   "metadata": {},
   "outputs": [],
   "source": [
    "g=Graph(3)\n",
    "g.add_edge(0,1)\n",
    "g.add_edge(1,0)\n",
    "g.add_edge(1,2)\n",
    "g.add_edge(2,1)"
   ]
  },
  {
   "cell_type": "code",
   "execution_count": 31,
   "metadata": {},
   "outputs": [
    {
     "name": "stdout",
     "output_type": "stream",
     "text": [
      "0 1 0\n",
      "1 0 1\n",
      "0 1 0\n"
     ]
    }
   ],
   "source": [
    "g.print_matrix()"
   ]
  },
  {
   "cell_type": "code",
   "execution_count": 14,
   "metadata": {},
   "outputs": [
    {
     "data": {
      "text/plain": [
       "[[3, 2, 3], [3, 2, 3], [3, 2, 3]]"
      ]
     },
     "execution_count": 14,
     "metadata": {},
     "output_type": "execute_result"
    }
   ],
   "source": [
    "g.adjacent_matrix"
   ]
  },
  {
   "cell_type": "code",
   "execution_count": null,
   "metadata": {},
   "outputs": [],
   "source": []
  }
 ],
 "metadata": {
  "kernelspec": {
   "display_name": "Python 3",
   "language": "python",
   "name": "python3"
  },
  "language_info": {
   "codemirror_mode": {
    "name": "ipython",
    "version": 3
   },
   "file_extension": ".py",
   "mimetype": "text/x-python",
   "name": "python",
   "nbconvert_exporter": "python",
   "pygments_lexer": "ipython3",
   "version": "3.11.9"
  }
 },
 "nbformat": 4,
 "nbformat_minor": 2
}
