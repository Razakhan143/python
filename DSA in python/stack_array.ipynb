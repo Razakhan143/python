{
 "cells": [
  {
   "cell_type": "code",
   "execution_count": 36,
   "metadata": {},
   "outputs": [],
   "source": [
    "class stack:\n",
    "    def __init__(self,size):\n",
    "        self.size=size\n",
    "        self.stack=[None]*self.size\n",
    "        self.top=-1\n",
    "\n",
    "    def push(self,item):\n",
    "        if self.top>=self.size-1:\n",
    "            print(\"Stack is full\")\n",
    "        else:\n",
    "            self.top+=1\n",
    "            self.stack[self.top]=item\n",
    "        \n",
    "    def pop(self):\n",
    "        if self.top<0:\n",
    "            print(\"Stack is empty\")\n",
    "        else:\n",
    "            item=self.stack[self.top]\n",
    "            self.stack[self.top]=None\n",
    "            self.top-=1\n",
    "            return item\n",
    "    \n",
    "    def traverse(self):\n",
    "        for i in range(self.top,-1,-1):\n",
    "            \n",
    "             print(self.stack[i])"
   ]
  },
  {
   "cell_type": "code",
   "execution_count": 37,
   "metadata": {},
   "outputs": [],
   "source": [
    "s=stack(5)"
   ]
  },
  {
   "cell_type": "code",
   "execution_count": 38,
   "metadata": {},
   "outputs": [],
   "source": [
    "s.push(1)\n",
    "s.push(2)\n",
    "s.push(3)\n",
    "s.push(4)"
   ]
  },
  {
   "cell_type": "code",
   "execution_count": 46,
   "metadata": {},
   "outputs": [],
   "source": [
    "s.traverse()"
   ]
  },
  {
   "cell_type": "code",
   "execution_count": 44,
   "metadata": {},
   "outputs": [
    {
     "name": "stdout",
     "output_type": "stream",
     "text": [
      "Stack is empty\n"
     ]
    }
   ],
   "source": [
    "s.pop()"
   ]
  },
  {
   "cell_type": "code",
   "execution_count": null,
   "metadata": {},
   "outputs": [],
   "source": []
  },
  {
   "cell_type": "code",
   "execution_count": null,
   "metadata": {},
   "outputs": [],
   "source": []
  }
 ],
 "metadata": {
  "kernelspec": {
   "display_name": "Python 3",
   "language": "python",
   "name": "python3"
  },
  "language_info": {
   "codemirror_mode": {
    "name": "ipython",
    "version": 3
   },
   "file_extension": ".py",
   "mimetype": "text/x-python",
   "name": "python",
   "nbconvert_exporter": "python",
   "pygments_lexer": "ipython3",
   "version": "3.11.9"
  }
 },
 "nbformat": 4,
 "nbformat_minor": 2
}
