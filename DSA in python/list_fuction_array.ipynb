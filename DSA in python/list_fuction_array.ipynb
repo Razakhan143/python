{
 "cells": [
  {
   "cell_type": "code",
   "execution_count": 1,
   "metadata": {},
   "outputs": [],
   "source": [
    "import ctypes"
   ]
  },
  {
   "cell_type": "code",
   "execution_count": 154,
   "metadata": {},
   "outputs": [],
   "source": [
    "class MeraList:\n",
    "\n",
    "  def __init__(self):\n",
    "    self.size = 1\n",
    "    self.n = 0\n",
    "    self.b=0\n",
    "    # create a C type ka array with size -> self.size\n",
    "    self.A = self.__make_array(self.size)\n",
    "  def __make_array(self,capacity):\n",
    "  # referential array(C type)\n",
    "    return (capacity*ctypes.py_object)()\n",
    "  def __resize(self,size):\n",
    "    # referential array(C type)\n",
    "    self.size=size\n",
    "    B = self.__make_array(size)\n",
    "    for i in range(self.n):\n",
    "      B[i] = self.A[i]\n",
    "    self.A=B\n",
    "  def __len__(self):\n",
    "    return self.n\n",
    "  \n",
    "  def append(self,item):\n",
    "    if self.n==self.size:\n",
    "      self.__resize(self.size*2)\n",
    "    self.A[self.n]=item\n",
    "    self.n=self.n+1\n",
    "\n",
    "  def __str__(self):\n",
    "    result = ''\n",
    "    for i in range(self.n):\n",
    "      result = result + str(self.A[i]) + ','\n",
    "\n",
    "    return '[' + result[:-1] + ']'\n",
    "  \n",
    "\n",
    "  def __getitem__(self,index):\n",
    "    if 0<= index < self.n:\n",
    "      return self.A[index]\n",
    "    else:\n",
    "      return \"array index out of the bound\"\n",
    "    \n",
    "  def pop(self,index):\n",
    "    for i in range(index,self.n):\n",
    "      self.A[i]=self.A[i+1]\n",
    "      self.n=self.n-1\n",
    "      "
   ]
  },
  {
   "cell_type": "code",
   "execution_count": 155,
   "metadata": {},
   "outputs": [],
   "source": [
    "l=MeraList()\n"
   ]
  },
  {
   "cell_type": "code",
   "execution_count": 156,
   "metadata": {},
   "outputs": [],
   "source": [
    "l.append('hello')\n",
    "l.append(11)\n",
    "l.append(True)\n",
    "l.append(3.2)"
   ]
  },
  {
   "cell_type": "code",
   "execution_count": 157,
   "metadata": {},
   "outputs": [
    {
     "data": {
      "text/plain": [
       "4"
      ]
     },
     "execution_count": 157,
     "metadata": {},
     "output_type": "execute_result"
    }
   ],
   "source": [
    "len(l)"
   ]
  },
  {
   "cell_type": "code",
   "execution_count": 158,
   "metadata": {},
   "outputs": [
    {
     "ename": "IndexError",
     "evalue": "invalid index",
     "output_type": "error",
     "traceback": [
      "\u001b[1;31m---------------------------------------------------------------------------\u001b[0m",
      "\u001b[1;31mIndexError\u001b[0m                                Traceback (most recent call last)",
      "Cell \u001b[1;32mIn[158], line 1\u001b[0m\n\u001b[1;32m----> 1\u001b[0m \u001b[43ml\u001b[49m\u001b[38;5;241;43m.\u001b[39;49m\u001b[43mpop\u001b[49m\u001b[43m(\u001b[49m\u001b[38;5;241;43m3\u001b[39;49m\u001b[43m)\u001b[49m\n",
      "Cell \u001b[1;32mIn[154], line 44\u001b[0m, in \u001b[0;36mMeraList.pop\u001b[1;34m(self, index)\u001b[0m\n\u001b[0;32m     42\u001b[0m \u001b[38;5;28;01mdef\u001b[39;00m \u001b[38;5;21mpop\u001b[39m(\u001b[38;5;28mself\u001b[39m,index):\n\u001b[0;32m     43\u001b[0m   \u001b[38;5;28;01mfor\u001b[39;00m i \u001b[38;5;129;01min\u001b[39;00m \u001b[38;5;28mrange\u001b[39m(index,\u001b[38;5;28mself\u001b[39m\u001b[38;5;241m.\u001b[39mn):\n\u001b[1;32m---> 44\u001b[0m     \u001b[38;5;28mself\u001b[39m\u001b[38;5;241m.\u001b[39mA[i]\u001b[38;5;241m=\u001b[39m\u001b[38;5;28;43mself\u001b[39;49m\u001b[38;5;241;43m.\u001b[39;49m\u001b[43mA\u001b[49m\u001b[43m[\u001b[49m\u001b[43mi\u001b[49m\u001b[38;5;241;43m+\u001b[39;49m\u001b[38;5;241;43m1\u001b[39;49m\u001b[43m]\u001b[49m\n\u001b[0;32m     45\u001b[0m     \u001b[38;5;28mself\u001b[39m\u001b[38;5;241m.\u001b[39mn\u001b[38;5;241m=\u001b[39m\u001b[38;5;28mself\u001b[39m\u001b[38;5;241m.\u001b[39mn\u001b[38;5;241m-\u001b[39m\u001b[38;5;241m1\u001b[39m\n",
      "\u001b[1;31mIndexError\u001b[0m: invalid index"
     ]
    }
   ],
   "source": [
    "l.pop(3)"
   ]
  },
  {
   "cell_type": "code",
   "execution_count": 148,
   "metadata": {},
   "outputs": [
    {
     "name": "stdout",
     "output_type": "stream",
     "text": [
      "True\n"
     ]
    }
   ],
   "source": [
    "print(l[2])"
   ]
  },
  {
   "cell_type": "code",
   "execution_count": null,
   "metadata": {},
   "outputs": [],
   "source": []
  },
  {
   "cell_type": "code",
   "execution_count": null,
   "metadata": {},
   "outputs": [],
   "source": [
    "# class MeraList:\n",
    "\n",
    "#   def __init__(self):\n",
    "#     self.size = 1\n",
    "#     self.n = 0\n",
    "#     # create a C type ka array with size -> self.size\n",
    "#     self.A = self.__make_array(self.size)\n",
    "\n",
    "#   def __len__(self):\n",
    "#     return self.n\n",
    "\n",
    "#   def append(self,item):\n",
    "#     # check if vacant\n",
    "#     if self.n == self.size:\n",
    "#       # array is full -> resize\n",
    "#       self.__resize(self.size*2)\n",
    "\n",
    "#     self.A[self.n] = item\n",
    "#     self.n = self.n + 1\n",
    "\n",
    "#   def pop(self):\n",
    "#     if self.n == 0:\n",
    "#       return 'Empty List'\n",
    "#     print(self.A[self.n-1])\n",
    "#     self.n = self.n - 1\n",
    "\n",
    "#   def clear(self):\n",
    "#     self.n = 0\n",
    "#     self.size = 1\n",
    "\n",
    "#   def find(self,item):\n",
    "\n",
    "#     for i in range(self.n):\n",
    "#       if self.A[i] == item:\n",
    "#         return i\n",
    "#     return 'ValueError - not in list'\n",
    "\n",
    "#   def insert(self,pos,item):\n",
    "\n",
    "#     if self.n == self.size:\n",
    "#       self.__resize(self.size*2)\n",
    "\n",
    "#     for i in range(self.n,pos,-1):\n",
    "#       self.A[i] = self.A[i-1]\n",
    "\n",
    "#     self.A[pos] = item\n",
    "#     self.n = self.n + 1\n",
    "\n",
    "#   def remove(self,item):\n",
    "#     # search and get pos\n",
    "#     pos = self.find(item)\n",
    "#     if type(pos) == int:\n",
    "#       # delete\n",
    "#       self.__delitem__(pos)\n",
    "#     else:\n",
    "#       return pos\n",
    "\n",
    "#   def __resize(self,new_capacity):\n",
    "#     # create a new array with new capacity\n",
    "#     B = self.__make_array(new_capacity)\n",
    "#     self.size = new_capacity\n",
    "#     # copy the content of old array to new one\n",
    "#     for i in range(self.n):\n",
    "#       B[i] = self.A[i]\n",
    "#     # reassign A\n",
    "#     self.A = B\n",
    "\n",
    "#   def __str__(self):\n",
    "#     result = ''\n",
    "#     for i in range(self.n):\n",
    "#       result = result + str(self.A[i]) + ','\n",
    "\n",
    "#     return '[' + result[:-1] + ']'\n",
    "\n",
    "#   def __getitem__(self,index):\n",
    "\n",
    "#     if 0<= index < self.n:\n",
    "#       return self.A[index]\n",
    "#     else:\n",
    "#       return 'IndexError'\n",
    "\n",
    "#   def __delitem__(self,pos):\n",
    "#     # delete pos wala item\n",
    "#     if 0<= pos < self.n:\n",
    "#       for i in range(pos,self.n-1):\n",
    "#         self.A[i] = self.A[i+1]\n",
    "\n",
    "#       self.n = self.n - 1\n",
    "\n",
    "#   def __make_array(self,capacity):\n",
    "#     # referential array(C type)\n",
    "#     return (capacity*ctypes.py_object)()"
   ]
  }
 ],
 "metadata": {
  "kernelspec": {
   "display_name": "Python 3",
   "language": "python",
   "name": "python3"
  },
  "language_info": {
   "codemirror_mode": {
    "name": "ipython",
    "version": 3
   },
   "file_extension": ".py",
   "mimetype": "text/x-python",
   "name": "python",
   "nbconvert_exporter": "python",
   "pygments_lexer": "ipython3",
   "version": "3.11.9"
  }
 },
 "nbformat": 4,
 "nbformat_minor": 2
}
