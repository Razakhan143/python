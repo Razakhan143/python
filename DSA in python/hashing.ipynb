{
 "cells": [
  {
   "cell_type": "code",
   "execution_count": 52,
   "metadata": {},
   "outputs": [],
   "source": [
    "class Dictionary:\n",
    "    def __init__(self,size):\n",
    "        self.size = size\n",
    "        self.slot=[None]*self.size\n",
    "        self.data=[None]*self.size\n",
    "    \n",
    "    def put(self,key,data):\n",
    "        hash=self.hashed(key)\n",
    "        if self.slot[hash] is None:\n",
    "            self.slot[hash]=key\n",
    "            self.data[hash]=data\n",
    "        else:\n",
    "            if self.slot[hash]==key:\n",
    "                self.data[hash]=data\n",
    "                return \"new value update having same key\"\n",
    "            else:\n",
    "                new_hash=self.rehash(hash)\n",
    "                while self.slot[new_hash]!=None and self.slot[new_hash] != key:\n",
    "                    new_hash = self.rehash(new_hash)\n",
    "                if self.slot[new_hash]==None:\n",
    "                    self.slot[new_hash]=key\n",
    "                    self.data[new_hash]=data\n",
    "                else:\n",
    "                    self.data[new_hash]=data\n",
    "                    return \"new value update having same key\"\n",
    "                \n",
    "                \n",
    "\n",
    "    def get(self,key):\n",
    "        start_pos=self.hashed(key)\n",
    "        curr=start_pos\n",
    "        while self.slot[curr] is not None:\n",
    "            if self.slot[curr]==key:\n",
    "                return self.data[curr]\n",
    "            curr=self.rehash(start_pos)\n",
    "            \n",
    "            if curr==start_pos:\n",
    "                return\"Not found\"\n",
    "        return\"invalid key data not present\"\n",
    "\n",
    "    def __setitem__(self,key,data):\n",
    "        self.put(key,data)\n",
    "    def __getitem__(self,key):\n",
    "        return self.get(key)\n",
    "\n",
    "    def rehash(self,key):\n",
    "        return (key + 1)% self.size\n",
    "    \n",
    "    def hashed(self,key):\n",
    "        return abs(hash(key)) % self.size\n",
    "    \n",
    "    def __str__(self):\n",
    "        for i in range(len(self.slot)):\n",
    "            print(self.slot[i],\" : \",self.data[i])\n",
    "        return \"\"\n"
   ]
  },
  {
   "cell_type": "code",
   "execution_count": 53,
   "metadata": {},
   "outputs": [],
   "source": [
    "d=Dictionary(3)"
   ]
  },
  {
   "cell_type": "code",
   "execution_count": 58,
   "metadata": {},
   "outputs": [
    {
     "name": "stdout",
     "output_type": "stream",
     "text": [
      "[556, 986, 556]\n",
      "['raza', 'hammad', 'raz']\n"
     ]
    }
   ],
   "source": [
    "print(d.data)\n",
    "print(d.slot)"
   ]
  },
  {
   "cell_type": "code",
   "execution_count": 55,
   "metadata": {},
   "outputs": [],
   "source": [
    "d.put(\"hammad\",986)\n",
    "d[\"raz\"]=556"
   ]
  },
  {
   "cell_type": "code",
   "execution_count": 57,
   "metadata": {},
   "outputs": [],
   "source": [
    "d[\"raza\"]=556"
   ]
  },
  {
   "cell_type": "code",
   "execution_count": 62,
   "metadata": {},
   "outputs": [
    {
     "data": {
      "text/plain": [
       "986"
      ]
     },
     "execution_count": 62,
     "metadata": {},
     "output_type": "execute_result"
    }
   ],
   "source": [
    "d[\"\"]"
   ]
  },
  {
   "cell_type": "code",
   "execution_count": null,
   "metadata": {},
   "outputs": [],
   "source": []
  },
  {
   "cell_type": "code",
   "execution_count": 109,
   "metadata": {},
   "outputs": [],
   "source": [
    "d.put(\"5\",8)"
   ]
  },
  {
   "cell_type": "code",
   "execution_count": 111,
   "metadata": {},
   "outputs": [
    {
     "name": "stdout",
     "output_type": "stream",
     "text": [
      "5  :  8\n",
      "hammad  :  8\n",
      "raza  :  8\n",
      "\n"
     ]
    }
   ],
   "source": [
    "print(d)"
   ]
  },
  {
   "cell_type": "code",
   "execution_count": 39,
   "metadata": {},
   "outputs": [],
   "source": [
    "class dictionary:\n",
    "\n",
    "  def __init__(self, size):\n",
    "    self.size = size\n",
    "    self.slots = [None] * self.size\n",
    "    self.data = [None] * self.size\n",
    "\n",
    "  def put(self, key, value):\n",
    "    hash_value = self.hash_function(key)\n",
    "\n",
    "    if self.slots[hash_value] == None:\n",
    "      self.slots[hash_value] = key\n",
    "      self.data[hash_value] = value\n",
    "\n",
    "    else:\n",
    "\n",
    "      if self.slots[hash_value] == key:\n",
    "        self.data[hash_value] = value\n",
    "      else:\n",
    "        new_hash_value = self.rehash(hash_value)\n",
    "\n",
    "        while self.slots[new_hash_value] != None and self.slots[new_hash_value] != key:\n",
    "          new_hash_value = self.rehash(new_hash_value)\n",
    "\n",
    "        if self.slots[new_hash_value] == None:\n",
    "          self.slots[new_hash_value] = key\n",
    "          self.data[new_hash_value] = value\n",
    "        else:\n",
    "          self.data[new_hash_value] = value\n",
    "\n",
    "  def get(self, key):\n",
    "    start_position = self.hash_function(key)\n",
    "    current_position = start_position\n",
    "\n",
    "    while self.slots[current_position] != None:\n",
    "\n",
    "      if self.slots[current_position] == key:\n",
    "        return self.data[current_position]\n",
    "      \n",
    "      current_position = self.rehash(current_position)\n",
    "\n",
    "      if current_position == start_position:\n",
    "        return \"Not Found\"\n",
    "\n",
    "    return \"None wala Not Found\"\n",
    "\n",
    "  def __str__(self):\n",
    "\n",
    "    for i in range(len(self.slots)):\n",
    "      if self.slots[i] != None:\n",
    "        print(self.slots[i],\":\",self.data[i],end=' ')\n",
    "\n",
    "    return \"\"\n",
    "\n",
    "  def __getitem__(self,key):\n",
    "    return self.get(key)\n",
    "\n",
    "  def __setitem__(self,key,value):\n",
    "    self.put(key,value)\n",
    "  \n",
    "  def rehash(self, old_hash):\n",
    "    return (old_hash + 1) % self.size\n",
    "\n",
    "\n",
    "  def hash_function(self, key):\n",
    "\n",
    "    return abs(hash(key)) % self.size\n",
    "\n",
    "     "
   ]
  },
  {
   "cell_type": "code",
   "execution_count": 40,
   "metadata": {},
   "outputs": [],
   "source": [
    "d=dictionary(3)"
   ]
  },
  {
   "cell_type": "code",
   "execution_count": 44,
   "metadata": {},
   "outputs": [
    {
     "name": "stdout",
     "output_type": "stream",
     "text": [
      "[3, 986, 556]\n",
      "['hel', 'hammad', 'raz']\n"
     ]
    }
   ],
   "source": [
    "print(d.data)\n",
    "print(d.slots)"
   ]
  },
  {
   "cell_type": "code",
   "execution_count": 43,
   "metadata": {},
   "outputs": [],
   "source": [
    "d.put(\"hammad\",986)\n",
    "d[\"raz\"]=556\n",
    "d[\"hel\"]=3"
   ]
  },
  {
   "cell_type": "code",
   "execution_count": 49,
   "metadata": {},
   "outputs": [
    {
     "data": {
      "text/plain": [
       "'Not Found'"
      ]
     },
     "execution_count": 49,
     "metadata": {},
     "output_type": "execute_result"
    }
   ],
   "source": [
    "d[\"4\"]"
   ]
  },
  {
   "cell_type": "code",
   "execution_count": null,
   "metadata": {},
   "outputs": [],
   "source": []
  }
 ],
 "metadata": {
  "kernelspec": {
   "display_name": "Python 3",
   "language": "python",
   "name": "python3"
  },
  "language_info": {
   "codemirror_mode": {
    "name": "ipython",
    "version": 3
   },
   "file_extension": ".py",
   "mimetype": "text/x-python",
   "name": "python",
   "nbconvert_exporter": "python",
   "pygments_lexer": "ipython3",
   "version": "3.11.9"
  }
 },
 "nbformat": 4,
 "nbformat_minor": 2
}
