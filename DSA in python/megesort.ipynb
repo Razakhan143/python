{
 "cells": [
  {
   "cell_type": "code",
   "execution_count": 32,
   "metadata": {},
   "outputs": [],
   "source": [
    "def merge_arrays(arr1, arr2, arr):\n",
    "    i = j = 0\n",
    "    # Merging two arrays into arr\n",
    "    while i < len(arr1) and j < len(arr2):\n",
    "        if arr1[i] < arr2[j]:\n",
    "            arr[i + j] = arr1[i]\n",
    "            i += 1\n",
    "        else:\n",
    "            arr[i + j] = arr2[j]\n",
    "            j += 1\n",
    "\n",
    "    # If any elements remain in arr1, append them\n",
    "    while i < len(arr1):\n",
    "        arr[i + j] = arr1[i]\n",
    "        i += 1\n",
    "\n",
    "    # If any elements remain in arr2, append them\n",
    "    while j < len(arr2):\n",
    "        arr[i + j] = arr2[j]\n",
    "        j += 1\n",
    "\n",
    "    return arr\n"
   ]
  },
  {
   "cell_type": "code",
   "execution_count": 43,
   "metadata": {},
   "outputs": [],
   "source": [
    "def merge_sort(arr): \n",
    "    mid = len(arr) // 2\n",
    "    left=arr[:mid]\n",
    "    right=arr[mid:]\n",
    "    if len(left) == 1 and len(right) == 1:\n",
    "        return merge_arrays(left,right,arr)\n",
    "    else:\n",
    "        merge_sort(left)\n",
    "        merge_sort(right)\n",
    "\n",
    "    merge_arrays(left,right,arr)\n",
    "    return arr"
   ]
  },
  {
   "cell_type": "code",
   "execution_count": 44,
   "metadata": {},
   "outputs": [
    {
     "name": "stdout",
     "output_type": "stream",
     "text": [
      "[2, 3, 4, 4, 5, 6, 8, 9]\n"
     ]
    }
   ],
   "source": [
    "arr=[5,4,6,8,3,4,9,2]\n",
    "print(merge_sort(arr))"
   ]
  },
  {
   "cell_type": "code",
   "execution_count": null,
   "metadata": {},
   "outputs": [],
   "source": []
  }
 ],
 "metadata": {
  "kernelspec": {
   "display_name": "Python 3",
   "language": "python",
   "name": "python3"
  },
  "language_info": {
   "codemirror_mode": {
    "name": "ipython",
    "version": 3
   },
   "file_extension": ".py",
   "mimetype": "text/x-python",
   "name": "python",
   "nbconvert_exporter": "python",
   "pygments_lexer": "ipython3",
   "version": "3.11.9"
  }
 },
 "nbformat": 4,
 "nbformat_minor": 2
}
