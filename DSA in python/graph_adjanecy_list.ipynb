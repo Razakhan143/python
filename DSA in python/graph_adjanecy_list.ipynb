{
 "cells": [
  {
   "cell_type": "code",
   "execution_count": 21,
   "metadata": {},
   "outputs": [],
   "source": [
    "class Graph:\n",
    "    def __init__(self,von):\n",
    "        self.vertex_count = von\n",
    "        self.adjacent_list={v:[] for v in range(von)}\n",
    "    \n",
    "    def add_edge(self,v,u):\n",
    "        weight=1\n",
    "        if 0<=v<self.vertex_count and 0<=u<self.vertex_count:\n",
    "            self.adjacent_list[v].append((v,weight))\n",
    "            self.adjacent_list[u].append((u,weight))\n",
    "        else:\n",
    "            print(\"Invalid vertex index\")\n",
    "    \n",
    "    def remove(self,v,u):\n",
    "        if 0<=v<self.vertex_count and 0<=u<self.vertex_count:\n",
    "            self.adjacent_list[v]=((vertex,weight) for vertex, weight in self.adjacent_list[u] if vertex!=v)\n",
    "            self.adjacent_list[u]=((vertex,weight) for vertex, weight in self.adjacent_list[v] if vertex!=u)\n",
    "        else:\n",
    "            print(\"Invalid vertex index\")\n",
    "\n",
    "    def dfs_iterative(self,start_node):\n",
    "        visited = set()  # To keep track of visited nodes\n",
    "        stack = [start_node]  # Stack for DFS\n",
    "\n",
    "        while stack:\n",
    "            node = stack.pop()  # Pop a node from the stack\n",
    "\n",
    "            if node not in visited:\n",
    "                print(node, end=\" \")  # Process the node (e.g., print it)\n",
    "                visited.add(node)  # Mark the node as visited\n",
    "\n",
    "                # Add all unvisited neighbors to the stack\n",
    "                for neighbor in self.adjacent_list[node]:\n",
    "                    if neighbor not in visited:\n",
    "                        stack.append(neighbor)\n",
    "        \n"
   ]
  },
  {
   "cell_type": "code",
   "execution_count": 22,
   "metadata": {},
   "outputs": [],
   "source": [
    "g=Graph(3)\n",
    "g.add_edge(0,1)\n",
    "g.add_edge(1,0)\n",
    "g.add_edge(1,2)\n",
    "g.add_edge(2,1)"
   ]
  },
  {
   "cell_type": "code",
   "execution_count": 23,
   "metadata": {},
   "outputs": [
    {
     "name": "stdout",
     "output_type": "stream",
     "text": [
      "0 (0, 1) "
     ]
    },
    {
     "ename": "KeyError",
     "evalue": "(0, 1)",
     "output_type": "error",
     "traceback": [
      "\u001b[1;31m---------------------------------------------------------------------------\u001b[0m",
      "\u001b[1;31mKeyError\u001b[0m                                  Traceback (most recent call last)",
      "Cell \u001b[1;32mIn[23], line 1\u001b[0m\n\u001b[1;32m----> 1\u001b[0m \u001b[43mg\u001b[49m\u001b[38;5;241;43m.\u001b[39;49m\u001b[43mdfs_iterative\u001b[49m\u001b[43m(\u001b[49m\u001b[38;5;241;43m0\u001b[39;49m\u001b[43m)\u001b[49m\n",
      "Cell \u001b[1;32mIn[21], line 33\u001b[0m, in \u001b[0;36mGraph.dfs_iterative\u001b[1;34m(self, start_node)\u001b[0m\n\u001b[0;32m     30\u001b[0m visited\u001b[38;5;241m.\u001b[39madd(node)  \u001b[38;5;66;03m# Mark the node as visited\u001b[39;00m\n\u001b[0;32m     32\u001b[0m \u001b[38;5;66;03m# Add all unvisited neighbors to the stack\u001b[39;00m\n\u001b[1;32m---> 33\u001b[0m \u001b[38;5;28;01mfor\u001b[39;00m neighbor \u001b[38;5;129;01min\u001b[39;00m \u001b[38;5;28;43mself\u001b[39;49m\u001b[38;5;241;43m.\u001b[39;49m\u001b[43madjacent_list\u001b[49m\u001b[43m[\u001b[49m\u001b[43mnode\u001b[49m\u001b[43m]\u001b[49m:\n\u001b[0;32m     34\u001b[0m     \u001b[38;5;28;01mif\u001b[39;00m neighbor \u001b[38;5;129;01mnot\u001b[39;00m \u001b[38;5;129;01min\u001b[39;00m visited:\n\u001b[0;32m     35\u001b[0m         stack\u001b[38;5;241m.\u001b[39mappend(neighbor)\n",
      "\u001b[1;31mKeyError\u001b[0m: (0, 1)"
     ]
    }
   ],
   "source": [
    "g.dfs_iterative(0)"
   ]
  },
  {
   "cell_type": "code",
   "execution_count": 5,
   "metadata": {},
   "outputs": [
    {
     "name": "stdout",
     "output_type": "stream",
     "text": [
      "23CS008\n",
      "V 0 : [(0, 1), (0, 1)]\n",
      "V 1 : [(1, 1), (1, 1), (1, 1), (1, 1)]\n",
      "V 2 : [(2, 1), (2, 1)]\n"
     ]
    }
   ],
   "source": [
    "print(\"23CS008\")\n",
    "g.print_matrix()"
   ]
  },
  {
   "cell_type": "code",
   "execution_count": 1,
   "metadata": {},
   "outputs": [
    {
     "name": "stdout",
     "output_type": "stream",
     "text": [
      "A C I H G D F E B "
     ]
    }
   ],
   "source": [
    "def dfs_iterative(graph, start_node):\n",
    "    visited = set()  # To keep track of visited nodes\n",
    "    stack = [start_node]  # Stack for DFS\n",
    "\n",
    "    while stack:\n",
    "        node = stack.pop()  # Pop a node from the stack\n",
    "\n",
    "        if node not in visited:\n",
    "            print(node, end=\" \")  # Process the node (e.g., print it)\n",
    "            visited.add(node)  # Mark the node as visited\n",
    "\n",
    "            # Add all unvisited neighbors to the stack\n",
    "            for neighbor in graph[node]:\n",
    "                if neighbor not in visited:\n",
    "                    stack.append(neighbor)\n",
    "\n",
    "# Example graph represented as an adjacency list\n",
    "graph = {\n",
    "    'A': ['B', 'C'],\n",
    "    'B': [],\n",
    "    'C': ['D',\"I\"],\n",
    "    'D': [\"E\",\"F\",\"H\"],\n",
    "    'E': [],\n",
    "    'F': [\"G\"],\n",
    "    'G': [],\n",
    "    'H':[],\n",
    "    'I':['G','H']\n",
    "\n",
    "}\n",
    "\n",
    "# Call DFS (Iterative)\n",
    "dfs_iterative(graph, 'A')\n"
   ]
  },
  {
   "cell_type": "code",
   "execution_count": 2,
   "metadata": {},
   "outputs": [
    {
     "name": "stdout",
     "output_type": "stream",
     "text": [
      "23CS008\n",
      "1 2 3 4 5 "
     ]
    }
   ],
   "source": [
    "\n",
    "from collections import deque\n",
    "\n",
    "def bfs(graph, start_node):\n",
    "    visited = set()  # To keep track of visited nodes\n",
    "    queue = deque([start_node])  # Queue for BFS\n",
    "    visited.add(start_node)  # Mark the start node as visited\n",
    "\n",
    "    while queue:\n",
    "        node = queue.popleft()  # Dequeue a node from the queue\n",
    "        print(node, end=\" \")  # Process the node (e.g., print it)\n",
    "\n",
    "        # Explore all adjacent nodes\n",
    "        for neighbor in graph[node]:\n",
    "            if neighbor not in visited:\n",
    "                visited.add(neighbor)  # Mark neighbor as visited\n",
    "                queue.append(neighbor)  # Enqueue the neighbor\n",
    "\n",
    "# Example graph represented as an adjacency list\n",
    "graph = {\n",
    "    '1': ['2', '3'],\n",
    "    '2': ['4', '5'],\n",
    "    '3': [],\n",
    "    '4': [],\n",
    "    '5': []\n",
    "}\n",
    "\n",
    "# Call BFS\n",
    "print(\"23CS008\")\n",
    "bfs(graph, '1')\n"
   ]
  },
  {
   "cell_type": "code",
   "execution_count": null,
   "metadata": {},
   "outputs": [],
   "source": []
  }
 ],
 "metadata": {
  "kernelspec": {
   "display_name": "Python 3",
   "language": "python",
   "name": "python3"
  },
  "language_info": {
   "codemirror_mode": {
    "name": "ipython",
    "version": 3
   },
   "file_extension": ".py",
   "mimetype": "text/x-python",
   "name": "python",
   "nbconvert_exporter": "python",
   "pygments_lexer": "ipython3",
   "version": "3.11.9"
  }
 },
 "nbformat": 4,
 "nbformat_minor": 2
}
