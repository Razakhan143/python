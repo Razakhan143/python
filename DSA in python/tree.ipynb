{
 "cells": [
  {
   "cell_type": "code",
   "execution_count": 22,
   "metadata": {},
   "outputs": [],
   "source": []
  },
  {
   "cell_type": "code",
   "execution_count": 1,
   "metadata": {},
   "outputs": [],
   "source": [
    "class tree:\n",
    "    def __init__(self):\n",
    "        self.root=None\n",
    "    def indert_node(self,data):\n",
    "        self.root=self.rinsert(self.root,data)\n",
    "    def rinsert(self,root,data):\n",
    "        if self.root is None:\n",
    "            return Node(data)\n",
    "        if data<self.root.data:\n",
    "            root.left=self.rinsert( root.left,data)\n",
    "        elif data>root.data:\n",
    "            root.right=self.rinsert(root.right,data)\n",
    "        return root\n",
    "\n",
    "\n",
    "        "
   ]
  },
  {
   "cell_type": "code",
   "execution_count": 8,
   "metadata": {},
   "outputs": [],
   "source": [
    "class Node:\n",
    "   def __init__(self, data):\n",
    "      self.left = None\n",
    "      self.right = None\n",
    "      self.data = data\n",
    "   \n"
   ]
  },
  {
   "cell_type": "code",
   "execution_count": 24,
   "metadata": {},
   "outputs": [],
   "source": [
    "class BST:\n",
    "    def __init__(self) :\n",
    "        self.root = None\n",
    "\n",
    "    def insert(self, data):\n",
    "        if self.root is None:\n",
    "            self.root = Node(data)  # Set the root node if the tree is empty\n",
    "        else:\n",
    "            self._insert(self.root, data)  # Use a helper method for recursion\n",
    "\n",
    "    def _insert(self, node, data):\n",
    "        if data < node.data:\n",
    "            if node.left is None:\n",
    "                node.left = Node(data)  # Insert as the left child\n",
    "            else:\n",
    "                self._insert(node.left, data)  # Recursively insert into the left subtree\n",
    "        elif data > node.data:\n",
    "            if node.right is None:\n",
    "                node.right = Node(data)  # Insert as the right child\n",
    "            else:\n",
    "                self._insert(node.right, data)\n",
    "\n",
    "    def search(self,item):\n",
    "        curr=self.root\n",
    "        while curr:\n",
    "            if item == curr.data:\n",
    "                return True\n",
    "            elif item < curr.data:\n",
    "                curr=curr.right\n",
    "            else:\n",
    "                curr=curr.left\n",
    "\n",
    "\n",
    "    def delete_NCN(self,data):\n",
    "      if self.root is None:\n",
    "         return \"Tree is Empty\"\n",
    "      if data < self.root.data:\n",
    "         if self.root.left.data==data:\n",
    "            self.root.left = None\n",
    "            \n",
    "         else:\n",
    "            self.left.delete_NCN(data)\n",
    "      elif data > self.root.data:\n",
    "         if self.root.right.data==data:\n",
    "            self.root.right = None\n",
    "            print(self.root.right.data)\n",
    "         else:\n",
    "            self.right.delete_NCN(data)\n",
    "\n",
    "    # print method\n",
    "    def PrintLMR(self):\n",
    "      if self.left:\n",
    "         self.left.PrintLMR()\n",
    "      print( self.data),\n",
    "      if self.right:\n",
    "         self.right.PrintLMR()\n",
    "         \n",
    "    def PrintLMR(self):\n",
    "        if self.root is not None:\n",
    "            self.root.PrintLMR()\n",
    "        else:\n",
    "            print(\"Tree is empty\")"
   ]
  },
  {
   "cell_type": "code",
   "execution_count": null,
   "metadata": {},
   "outputs": [],
   "source": []
  },
  {
   "cell_type": "code",
   "execution_count": 16,
   "metadata": {},
   "outputs": [
    {
     "name": "stdout",
     "output_type": "stream",
     "text": [
      "B\n",
      "B\n",
      "B\n",
      "B\n",
      "B\n",
      "B\n",
      "B\n",
      "B\n",
      "B\n",
      "B\n",
      "B\n",
      "B\n",
      "B\n",
      "B\n",
      "B\n",
      "B\n",
      "B\n",
      "B\n",
      "B\n",
      "B\n",
      "B\n",
      "B\n",
      "B\n",
      "B\n",
      "B\n",
      "B\n",
      "B\n",
      "B\n",
      "B\n",
      "B\n",
      "B\n",
      "B\n",
      "B\n",
      "B\n",
      "B\n",
      "B\n",
      "B\n",
      "B\n",
      "B\n",
      "B\n",
      "B\n",
      "B\n",
      "B\n",
      "B\n",
      "B\n",
      "B\n",
      "B\n",
      "B\n",
      "B\n",
      "B\n",
      "B\n",
      "B\n",
      "B\n",
      "B\n",
      "B\n",
      "B\n",
      "B\n",
      "B\n",
      "B\n",
      "B\n",
      "B\n",
      "B\n",
      "B\n",
      "B\n",
      "B\n",
      "B\n"
     ]
    }
   ],
   "source": [
    "roott = BST()\n",
    "roott.insert(\"A\")\n",
    "roott.insert(\"B\")\n",
    "roott.insert(\"C\")\n",
    "roott.insert(\"D\")\n",
    "roott.insert(\"E\")\n",
    "roott.insert(\"F\")\n",
    "roott.insert(\"G\")\n",
    "roott.insert(\"H\")\n",
    "roott.insert(\"I\")\n",
    "roott.insert(\"J\")\n",
    "roott.insert(\"K\")\n",
    "roott.insert(\"L\")\n"
   ]
  },
  {
   "cell_type": "code",
   "execution_count": 13,
   "metadata": {},
   "outputs": [
    {
     "ename": "AttributeError",
     "evalue": "'NoneType' object has no attribute 'data'",
     "output_type": "error",
     "traceback": [
      "\u001b[1;31m---------------------------------------------------------------------------\u001b[0m",
      "\u001b[1;31mAttributeError\u001b[0m                            Traceback (most recent call last)",
      "Cell \u001b[1;32mIn[13], line 1\u001b[0m\n\u001b[1;32m----> 1\u001b[0m \u001b[38;5;28mprint\u001b[39m(\u001b[43mroott\u001b[49m\u001b[38;5;241;43m.\u001b[39;49m\u001b[43mroot\u001b[49m\u001b[38;5;241;43m.\u001b[39;49m\u001b[43mleft\u001b[49m\u001b[38;5;241;43m.\u001b[39;49m\u001b[43mdata\u001b[49m)\n",
      "\u001b[1;31mAttributeError\u001b[0m: 'NoneType' object has no attribute 'data'"
     ]
    }
   ],
   "source": [
    "print(roott.root.left.data)\n"
   ]
  },
  {
   "cell_type": "code",
   "execution_count": 7,
   "metadata": {},
   "outputs": [
    {
     "name": "stdout",
     "output_type": "stream",
     "text": [
      "23CS008\n",
      "Inorder\n"
     ]
    },
    {
     "ename": "AttributeError",
     "evalue": "'Node' object has no attribute 'PrintLMR'",
     "output_type": "error",
     "traceback": [
      "\u001b[1;31m---------------------------------------------------------------------------\u001b[0m",
      "\u001b[1;31mAttributeError\u001b[0m                            Traceback (most recent call last)",
      "Cell \u001b[1;32mIn[7], line 3\u001b[0m\n\u001b[0;32m      1\u001b[0m \u001b[38;5;28mprint\u001b[39m(\u001b[38;5;124m\"\u001b[39m\u001b[38;5;124m23CS008\u001b[39m\u001b[38;5;124m\"\u001b[39m)\n\u001b[0;32m      2\u001b[0m \u001b[38;5;28mprint\u001b[39m(\u001b[38;5;124m\"\u001b[39m\u001b[38;5;124mInorder\u001b[39m\u001b[38;5;124m\"\u001b[39m)\n\u001b[1;32m----> 3\u001b[0m \u001b[43mroot\u001b[49m\u001b[38;5;241;43m.\u001b[39;49m\u001b[43mPrintLMR\u001b[49m\u001b[43m(\u001b[49m\u001b[43m)\u001b[49m\n",
      "Cell \u001b[1;32mIn[3], line 48\u001b[0m, in \u001b[0;36mBST.PrintLMR\u001b[1;34m(self)\u001b[0m\n\u001b[0;32m     46\u001b[0m \u001b[38;5;28;01mdef\u001b[39;00m \u001b[38;5;21mPrintLMR\u001b[39m(\u001b[38;5;28mself\u001b[39m):\n\u001b[0;32m     47\u001b[0m     \u001b[38;5;28;01mif\u001b[39;00m \u001b[38;5;28mself\u001b[39m\u001b[38;5;241m.\u001b[39mroot \u001b[38;5;129;01mis\u001b[39;00m \u001b[38;5;129;01mnot\u001b[39;00m \u001b[38;5;28;01mNone\u001b[39;00m:\n\u001b[1;32m---> 48\u001b[0m         \u001b[38;5;28;43mself\u001b[39;49m\u001b[38;5;241;43m.\u001b[39;49m\u001b[43mroot\u001b[49m\u001b[38;5;241;43m.\u001b[39;49m\u001b[43mPrintLMR\u001b[49m()\n\u001b[0;32m     49\u001b[0m     \u001b[38;5;28;01melse\u001b[39;00m:\n\u001b[0;32m     50\u001b[0m         \u001b[38;5;28mprint\u001b[39m(\u001b[38;5;124m\"\u001b[39m\u001b[38;5;124mTree is empty\u001b[39m\u001b[38;5;124m\"\u001b[39m)\n",
      "\u001b[1;31mAttributeError\u001b[0m: 'Node' object has no attribute 'PrintLMR'"
     ]
    }
   ],
   "source": [
    "print(\"23CS008\")\n",
    "print(\"Inorder\")\n",
    "root.PrintLMR()"
   ]
  },
  {
   "cell_type": "code",
   "execution_count": 43,
   "metadata": {},
   "outputs": [],
   "source": [
    "root.delete_NCN(70)"
   ]
  },
  {
   "cell_type": "code",
   "execution_count": 14,
   "metadata": {},
   "outputs": [],
   "source": [
    "class Node:\n",
    "   def __init__(self, data):\n",
    "      self.left = None\n",
    "      self.right = None\n",
    "      self.data = data\n",
    "   \n",
    "\n",
    "   def insert(self, data):\n",
    "      if self.data:\n",
    "         if data < self.data:\n",
    "            if self.left is None:\n",
    "               self.left = Node(data)\n",
    "            else:\n",
    "               self.left.insert(data)\n",
    "         elif data > self.data:\n",
    "               if self.right is None:\n",
    "                  self.right = Node(data)\n",
    "               else:\n",
    "                  self.right.insert(data)\n",
    "      else:\n",
    "         self.data = data\n",
    "\n",
    "   def delete_NCN(self,data):\n",
    "      if self.data is None:\n",
    "         return \"Tree is Empty\"\n",
    "      if data < self.root.data:\n",
    "         if self.root.left.data==data:\n",
    "            self.root.left = None\n",
    "         else:\n",
    "            self.left.delete_NCN(data)\n",
    "      elif data > self.root.data:\n",
    "         if self.root.right.data==data:\n",
    "            self.root.right = None\n",
    "         else:\n",
    "            self.right.delete_NCN(data)\n",
    "   \n",
    "\n",
    "# Print the tree\n",
    "   def PrintLMR(self):\n",
    "      if self.left:\n",
    "         self.left.PrintLMR()\n",
    "      print( self.data),\n",
    "      if self.right:\n",
    "         self.right.PrintLMR()\n",
    "   def PrintLRM(self):\n",
    "      if self.left:\n",
    "         self.left.PrintLRM()\n",
    "      if self.right:\n",
    "         self.right.PrintLRM()\n",
    "      print( self.data),\n",
    "      \n",
    "   def PrintMLR(self):\n",
    "      print( self.data),\n",
    "      if self.left:\n",
    "         self.left.PrintMLR()\n",
    "      if self.right:\n",
    "         self.right.PrintMLR()\n"
   ]
  },
  {
   "cell_type": "code",
   "execution_count": 16,
   "metadata": {},
   "outputs": [],
   "source": [
    "root = (40)\n",
    "root.insert(70)\n",
    "root.insert(10)\n",
    "root.insert(20)\n",
    "root.insert(50)\n",
    "root.insert(30)\n",
    "root.insert(80)"
   ]
  },
  {
   "cell_type": "code",
   "execution_count": 9,
   "metadata": {},
   "outputs": [
    {
     "name": "stdout",
     "output_type": "stream",
     "text": [
      "23CS008\n",
      "Inorder\n",
      "10\n",
      "20\n",
      "30\n",
      "40\n",
      "50\n",
      "70\n",
      "80\n"
     ]
    }
   ],
   "source": [
    "print(\"23CS008\")\n",
    "print(\"Inorder\")\n",
    "root.PrintLMR()"
   ]
  },
  {
   "cell_type": "code",
   "execution_count": 6,
   "metadata": {},
   "outputs": [
    {
     "name": "stdout",
     "output_type": "stream",
     "text": [
      "23CS008\n",
      "Postorder\n",
      "30\n",
      "20\n",
      "10\n",
      "60\n",
      "50\n",
      "70\n",
      "40\n"
     ]
    }
   ],
   "source": [
    "print(\"23CS008\")\n",
    "print(\"Postorder\")\n",
    "root.PrintLRM()"
   ]
  },
  {
   "cell_type": "code",
   "execution_count": 7,
   "metadata": {},
   "outputs": [
    {
     "name": "stdout",
     "output_type": "stream",
     "text": [
      "23CS008\n",
      "Preorder\n",
      "40\n",
      "10\n",
      "20\n",
      "30\n",
      "70\n",
      "50\n",
      "60\n"
     ]
    }
   ],
   "source": [
    "print(\"23CS008\")\n",
    "print(\"Preorder\")\n",
    "root.PrintMLR()"
   ]
  },
  {
   "cell_type": "code",
   "execution_count": 8,
   "metadata": {},
   "outputs": [
    {
     "name": "stdout",
     "output_type": "stream",
     "text": [
      "Before deletion:\n",
      "30 40 45 50 55 60 62 69 70 90 100 120 "
     ]
    }
   ],
   "source": [
    "class Node:\n",
    "    def __init__(self, data):\n",
    "        self.data = data\n",
    "        self.left = None\n",
    "        self.right = None\n",
    "\n",
    "    # In-order print (left, root, right)\n",
    "    def PrintLMR(self):\n",
    "        \n",
    "        if self.left:\n",
    "            self.left.PrintLMR()\n",
    "        print(self.data, end=\" \")\n",
    "        if self.right:\n",
    "            self.right.PrintLMR()\n",
    "\n",
    "class BST:\n",
    "    def __init__(self):\n",
    "        self.root = None\n",
    "        self.n=0\n",
    "    def insert(self, data):\n",
    "        if self.root is None:\n",
    "            self.root = Node(data)\n",
    "            self.n+=1\n",
    "        else:\n",
    "            self._insert(self.root, data)\n",
    "\n",
    "    def _insert(self, node, data):\n",
    "\n",
    "        if data < node.data:\n",
    "            if node.left is None:\n",
    "                node.left = Node(data)\n",
    "                self.n+=1\n",
    "            else:\n",
    "                self._insert(node.left, data)\n",
    "        elif data > node.data:\n",
    "            if node.right is None:\n",
    "                node.right = Node(data)\n",
    "                self.n+=1\n",
    "            else:\n",
    "                self._insert(node.right, data)\n",
    "    def PrintLMR(self):\n",
    "        if self.root is not None:\n",
    "            self.root.PrintLMR()\n",
    "        else:\n",
    "            print(\"Tree is empty\")\n",
    "\n",
    "\n",
    "\n",
    "\n",
    "\n",
    "    def delete_SCN(self, data):\n",
    "        if self.root is None:\n",
    "            print(\"Tree is empty\")\n",
    "        else:\n",
    "            self.root = self._delete_SCN(self.root, data)\n",
    "\n",
    "    def _delete_SCN(self, node, data):\n",
    "        if node is None:\n",
    "            return None\n",
    "        if data < node.data:\n",
    "            node.left = self._delete_SCN(node.left, data)\n",
    "        elif data>node.data:\n",
    "            node.right = self._delete_SCN(node.right, data)\n",
    "        else:\n",
    "            if node.left is None:\n",
    "                return node.right\n",
    "            elif node.right is None:\n",
    "                return node.left\n",
    "            else:\n",
    "                min_node = self.min(node.right)\n",
    "                node.data = min_node\n",
    "                node.right = self._delete_SCN(node.right, min_node)\n",
    "        return node\n",
    "    \n",
    "\n",
    "    def size(self):\n",
    "        print(self.n)\n",
    "\n",
    "\n",
    "\n",
    "\n",
    "    def min(self,temp):\n",
    "        return self._min(temp)\n",
    "    def _min(self, node):\n",
    "        if node.left is None:\n",
    "            return node.data\n",
    "        if node.left is not None:\n",
    "            min= self._min(node.left)\n",
    "            return min\n",
    "    def _max(self,temp):\n",
    "        return self._max(temp)\n",
    "    def _max(self, node):\n",
    "        if node.right is None:\n",
    "            return node.data\n",
    "        if node.right is not None:\n",
    "            max= self._max(node.right)\n",
    "            return max\n",
    "        \n",
    "    \n",
    "\n",
    "# Example usage:\n",
    "bst = BST()\n",
    "bst.insert(100)\n",
    "bst.insert(120)\n",
    "bst.insert(90)\n",
    "bst.insert(50)\n",
    "bst.insert(60)\n",
    "bst.insert(40)\n",
    "bst.insert(55)\n",
    "bst.insert(62)\n",
    "bst.insert(70)\n",
    "bst.insert(69)\n",
    "bst.insert(30)\n",
    "bst.insert(45)\n",
    "\n",
    "print(\"Before deletion:\")\n",
    "bst.PrintLMR()\n",
    "\n"
   ]
  },
  {
   "cell_type": "code",
   "execution_count": 11,
   "metadata": {},
   "outputs": [
    {
     "name": "stdout",
     "output_type": "stream",
     "text": [
      "\n",
      "After deletion of 60:\n",
      "30 40 45 55 62 69 70 100 120 "
     ]
    }
   ],
   "source": [
    "bst.delete_SCN(90)\n",
    "\n",
    "print()\n",
    "print(\"After deletion of 60:\")\n",
    "bst.PrintLMR()"
   ]
  },
  {
   "cell_type": "code",
   "execution_count": 18,
   "metadata": {},
   "outputs": [
    {
     "ename": "AttributeError",
     "evalue": "'int' object has no attribute 'left'",
     "output_type": "error",
     "traceback": [
      "\u001b[1;31m---------------------------------------------------------------------------\u001b[0m",
      "\u001b[1;31mAttributeError\u001b[0m                            Traceback (most recent call last)",
      "Cell \u001b[1;32mIn[18], line 1\u001b[0m\n\u001b[1;32m----> 1\u001b[0m \u001b[43mbst\u001b[49m\u001b[38;5;241;43m.\u001b[39;49m\u001b[43m_min\u001b[49m\u001b[43m(\u001b[49m\u001b[38;5;241;43m75\u001b[39;49m\u001b[43m)\u001b[49m\n",
      "Cell \u001b[1;32mIn[16], line 95\u001b[0m, in \u001b[0;36mBST._min\u001b[1;34m(self, node)\u001b[0m\n\u001b[0;32m     94\u001b[0m \u001b[38;5;28;01mdef\u001b[39;00m \u001b[38;5;21m_min\u001b[39m(\u001b[38;5;28mself\u001b[39m, node):\n\u001b[1;32m---> 95\u001b[0m     \u001b[38;5;28;01mif\u001b[39;00m \u001b[43mnode\u001b[49m\u001b[38;5;241;43m.\u001b[39;49m\u001b[43mleft\u001b[49m \u001b[38;5;129;01mis\u001b[39;00m \u001b[38;5;28;01mNone\u001b[39;00m:\n\u001b[0;32m     96\u001b[0m         \u001b[38;5;28mprint\u001b[39m(\u001b[38;5;124m\"\u001b[39m\u001b[38;5;124mthis node having min item\u001b[39m\u001b[38;5;124m\"\u001b[39m)\n\u001b[0;32m     97\u001b[0m         \u001b[38;5;28;01mreturn\u001b[39;00m node\u001b[38;5;241m.\u001b[39mdata\n",
      "\u001b[1;31mAttributeError\u001b[0m: 'int' object has no attribute 'left'"
     ]
    }
   ],
   "source": [
    "bst._min(75)\n",
    "\n"
   ]
  },
  {
   "cell_type": "code",
   "execution_count": 75,
   "metadata": {},
   "outputs": [
    {
     "name": "stdout",
     "output_type": "stream",
     "text": [
      "9\n"
     ]
    }
   ],
   "source": [
    "bst.size()"
   ]
  },
  {
   "cell_type": "code",
   "execution_count": 76,
   "metadata": {},
   "outputs": [
    {
     "name": "stdout",
     "output_type": "stream",
     "text": [
      "this node having max item\n"
     ]
    },
    {
     "data": {
      "text/plain": [
       "8000"
      ]
     },
     "execution_count": 76,
     "metadata": {},
     "output_type": "execute_result"
    }
   ],
   "source": [
    "\n",
    "bst.max()"
   ]
  },
  {
   "cell_type": "code",
   "execution_count": 21,
   "metadata": {},
   "outputs": [
    {
     "name": "stdout",
     "output_type": "stream",
     "text": [
      "23cs008\n",
      "In-order traversal:\n",
      "D B I F A G C J H L K \n"
     ]
    }
   ],
   "source": [
    "class Node:\n",
    "    def __init__(self, data):\n",
    "        self.data = data\n",
    "        self.left = None\n",
    "        self.right = None\n",
    "\n",
    "def inorder_traversal(root):\n",
    "    if root:\n",
    "        inorder_traversal(root.left)\n",
    "        print(root.data, end=\" \")\n",
    "        inorder_traversal(root.right)\n",
    "\n",
    "def preorder_traversal(root):\n",
    "    if root:\n",
    "        print(root.data, end=\" \")\n",
    "        preorder_traversal(root.left)\n",
    "        preorder_traversal(root.right) \n",
    "\n",
    "\n",
    "def postorder_traversal(root):\n",
    "    if root:\n",
    "        postorder_traversal(root.left)\n",
    "        postorder_traversal(root.right)\n",
    "        print(root.data, end=\" \")\n",
    "\n",
    "# Create the tree\n",
    "root = Node(\"A\")\n",
    "root.left = Node(\"B\")\n",
    "root.right = Node(\"C\")\n",
    "root.left.left = Node(\"D\")\n",
    "root.left.right = Node(\"F\")\n",
    "root.right.left = Node(\"G\")\n",
    "root.right.right = Node(\"H\")\n",
    "root.left.right.left = Node(\"I\")\n",
    "root.right.right.left = Node(\"J\")\n",
    "root.right.right.right = Node(\"K\")\n",
    "root.right.right.right.left = Node(\"L\")\n",
    "\n",
    "# Perform traversals\n",
    "print(\"23cs008\")\n",
    "print(\"In-order traversal:\")\n",
    "inorder_traversal(root)\n",
    "print()\n"
   ]
  },
  {
   "cell_type": "code",
   "execution_count": 22,
   "metadata": {},
   "outputs": [
    {
     "name": "stdout",
     "output_type": "stream",
     "text": [
      "Pre-order traversal:\n",
      "A B D F I C G H J K L \n"
     ]
    }
   ],
   "source": [
    "\n",
    "print(\"Pre-order traversal:\")\n",
    "preorder_traversal(root)\n",
    "print()\n",
    "\n"
   ]
  },
  {
   "cell_type": "code",
   "execution_count": 23,
   "metadata": {},
   "outputs": [
    {
     "name": "stdout",
     "output_type": "stream",
     "text": [
      "Post-order traversal:\n",
      "D I F B G J L K H C A "
     ]
    }
   ],
   "source": [
    "print(\"Post-order traversal:\")\n",
    "postorder_traversal(root)"
   ]
  },
  {
   "cell_type": "code",
   "execution_count": null,
   "metadata": {},
   "outputs": [],
   "source": []
  }
 ],
 "metadata": {
  "kernelspec": {
   "display_name": "Python 3",
   "language": "python",
   "name": "python3"
  },
  "language_info": {
   "codemirror_mode": {
    "name": "ipython",
    "version": 3
   },
   "file_extension": ".py",
   "mimetype": "text/x-python",
   "name": "python",
   "nbconvert_exporter": "python",
   "pygments_lexer": "ipython3",
   "version": "3.11.9"
  }
 },
 "nbformat": 4,
 "nbformat_minor": 2
}
