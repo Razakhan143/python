{
 "cells": [
  {
   "cell_type": "code",
   "execution_count": 35,
   "metadata": {},
   "outputs": [],
   "source": [
    "class Node:\n",
    "    def __init__(self,value):\n",
    "        self.data=value\n",
    "        self.next=None"
   ]
  },
  {
   "cell_type": "code",
   "execution_count": 36,
   "metadata": {},
   "outputs": [],
   "source": [
    "class LinkedList:\n",
    "\n",
    "  def __init__(self):\n",
    "\n",
    "    # Empty Linked List\n",
    "    self.head = None\n",
    "    # no of nodes in the LL\n",
    "    self.n = 0\n",
    "\n",
    "#length function\n",
    "  def __len__(self):\n",
    "    return self.n\n",
    "\n",
    "#insert from head\n",
    "  def insert_head(self,value):\n",
    "\n",
    "    # new node\n",
    "    new_node = Node(value)\n",
    "\n",
    "    # create connection\n",
    "    new_node.next = self.head\n",
    "\n",
    "    # reassign head\n",
    "    self.head = new_node\n",
    "\n",
    "    # increment n\n",
    "    self.n = self.n + 1\n",
    "\n",
    "#append add at the end\n",
    "  def append(self,value):\n",
    "\n",
    "    new_node = Node(value)\n",
    "\n",
    "    if self.head == None:\n",
    "      # empty\n",
    "      self.head = new_node\n",
    "      self.n = self.n + 1\n",
    "      return\n",
    "\n",
    "    curr = self.head\n",
    "\n",
    "    while curr.next != None:\n",
    "      curr = curr.next\n",
    "\n",
    "    # you are at the last node\n",
    "    curr.next = new_node\n",
    "    self.n = self.n + 1\n",
    "\n",
    "#Insert by value (after)\n",
    "  def insert_after(self,after,value):\n",
    "    new_node = Node(value)\n",
    "    curr = self.head\n",
    "    while curr!=None:\n",
    "      if curr.data==after:\n",
    "        break\n",
    "      curr = curr.next\n",
    "    if curr!=None:\n",
    "      new_node.next=curr.next\n",
    "      curr.next = new_node\n",
    "      self.n=self.n+1\n",
    "    else:\n",
    "      print(\"Item not found\")\n",
    "\n",
    "# clear function\n",
    "  def clear(self):\n",
    "    self.head = None\n",
    "    self.n=0\n",
    "    \n",
    "#del from head\n",
    "  def del_head(self):\n",
    "    curr=self.head\n",
    "    if curr==None:\n",
    "      print(\"List is empty\")\n",
    "    else:\n",
    "      self.head=curr.next\n",
    "      self.n=self.n-1\n",
    "      \n",
    "#del from head\n",
    "  def pop(self):\n",
    "    curr = self.head\n",
    "    if curr==None:\n",
    "      print(\"List is empty\")\n",
    "    else:\n",
    "      while curr.next.next!=None:\n",
    "        curr = curr.next\n",
    "        \n",
    "      curr.next=None\n",
    "      self.n=self.n-1\n",
    "\n",
    "#remove by value\n",
    "  def remove(self,value):\n",
    "    if self.head.data==value:\n",
    "      return self.del_head()\n",
    "    curr = self.head\n",
    "    while curr.next!=None:\n",
    "      if curr.next.data==value:\n",
    "        break\n",
    "      curr = curr.next\n",
    "\n",
    "    if curr.next!=None:\n",
    "      curr.next=curr.next.next\n",
    "      self.n=self.n-1\n",
    "    else:\n",
    "      return \"not found\"\n",
    "\n",
    "#Find\n",
    "  def search(self,item):\n",
    "    curr = self.head\n",
    "    pos=0\n",
    "    while curr!=None:\n",
    "      if curr.data==item:\n",
    "        break\n",
    "      curr = curr.next\n",
    "      pos=pos+1\n",
    "    if curr==None:\n",
    "      return \"not find\"\n",
    "    else:\n",
    "      return pos\n",
    "  \n",
    "  #search by index\n",
    "  def __getitem__(self,index):\n",
    "    curr = self.head\n",
    "    pos=0\n",
    "    while curr!=None:\n",
    "      if pos==index:\n",
    "        break\n",
    "      curr = curr.next\n",
    "      pos=pos+1\n",
    "    if curr==None:\n",
    "      return \"not find\"\n",
    "    else:\n",
    "      return curr.data\n",
    "\n",
    "#DEL by index\n",
    "  def del_index(self,index):\n",
    "    if index<0 or index>=self.n:\n",
    "      return \"index out of range\"\n",
    "    if index==0:\n",
    "      return self.del_head()\n",
    "    curr = self.head\n",
    "    pos=0\n",
    "    while curr!=None:\n",
    "      if pos==index:\n",
    "        break\n",
    "      curr = curr.next\n",
    "      pos=pos+1\n",
    "    return self.remove(curr.data)\n",
    "  \n",
    "  #reverse\n",
    "  def reverse(self):\n",
    "    prev = None\n",
    "    curr = self.head\n",
    "    while curr!=None:\n",
    "      next_node = curr.next\n",
    "      curr.next = prev\n",
    "      prev = curr\n",
    "      curr = next_node\n",
    "      self.head = prev\n",
    "      \n",
    "  \n",
    "#print function\n",
    "  def __str__(self):\n",
    "    curr=self.head\n",
    "    while curr != None:\n",
    "      print(curr.data)\n",
    "      curr = curr.next\n",
    "    return \"\"\n",
    "    # curr = self.head\n",
    "    # result = ''\n",
    "    # while curr != None:\n",
    "    #   result = result + str(curr.data) + '->'\n",
    "    #   curr = curr.next\n",
    "\n",
    "    # return result[:-2]\n"
   ]
  },
  {
   "cell_type": "code",
   "execution_count": 43,
   "metadata": {},
   "outputs": [],
   "source": [
    "l=LinkedList()"
   ]
  },
  {
   "cell_type": "code",
   "execution_count": 44,
   "metadata": {},
   "outputs": [],
   "source": [
    "l.append(4)\n",
    "l.append(3)\n",
    "l.append(2)\n",
    "l.append(1)\n"
   ]
  },
  {
   "cell_type": "code",
   "execution_count": 41,
   "metadata": {},
   "outputs": [],
   "source": [
    "l.insert_head(6)\n",
    "l.insert_head(7)\n",
    "l.insert_head(8)\n",
    "l.insert_head(9)"
   ]
  },
  {
   "cell_type": "code",
   "execution_count": 45,
   "metadata": {},
   "outputs": [
    {
     "name": "stdout",
     "output_type": "stream",
     "text": [
      "4\n",
      "3\n",
      "2\n",
      "1\n",
      "\n"
     ]
    }
   ],
   "source": [
    "print(l)"
   ]
  },
  {
   "cell_type": "code",
   "execution_count": 72,
   "metadata": {},
   "outputs": [
    {
     "name": "stdout",
     "output_type": "stream",
     "text": [
      "Item not found\n"
     ]
    }
   ],
   "source": [
    "l.insert_after(12,5)"
   ]
  },
  {
   "cell_type": "code",
   "execution_count": 73,
   "metadata": {},
   "outputs": [],
   "source": [
    "l.clear()"
   ]
  },
  {
   "cell_type": "code",
   "execution_count": 74,
   "metadata": {},
   "outputs": [
    {
     "name": "stdout",
     "output_type": "stream",
     "text": [
      "\n"
     ]
    }
   ],
   "source": [
    "print(l)"
   ]
  },
  {
   "cell_type": "code",
   "execution_count": 75,
   "metadata": {},
   "outputs": [],
   "source": [
    "l.reverse()"
   ]
  },
  {
   "cell_type": "code",
   "execution_count": 76,
   "metadata": {},
   "outputs": [
    {
     "name": "stdout",
     "output_type": "stream",
     "text": [
      "\n"
     ]
    }
   ],
   "source": [
    "print(l)"
   ]
  },
  {
   "cell_type": "code",
   "execution_count": 77,
   "metadata": {},
   "outputs": [
    {
     "data": {
      "text/plain": [
       "'index out of range'"
      ]
     },
     "execution_count": 77,
     "metadata": {},
     "output_type": "execute_result"
    }
   ],
   "source": [
    "l.del_index(4)"
   ]
  },
  {
   "cell_type": "code",
   "execution_count": 78,
   "metadata": {},
   "outputs": [
    {
     "data": {
      "text/plain": [
       "'not find'"
      ]
     },
     "execution_count": 78,
     "metadata": {},
     "output_type": "execute_result"
    }
   ],
   "source": [
    "l.search(1)"
   ]
  },
  {
   "cell_type": "code",
   "execution_count": 79,
   "metadata": {},
   "outputs": [
    {
     "name": "stdout",
     "output_type": "stream",
     "text": [
      "List is empty\n"
     ]
    }
   ],
   "source": [
    "l.pop()"
   ]
  },
  {
   "cell_type": "code",
   "execution_count": 80,
   "metadata": {},
   "outputs": [
    {
     "name": "stdout",
     "output_type": "stream",
     "text": [
      "List is empty\n"
     ]
    }
   ],
   "source": [
    "l.del_head()"
   ]
  },
  {
   "cell_type": "code",
   "execution_count": 81,
   "metadata": {},
   "outputs": [
    {
     "name": "stdout",
     "output_type": "stream",
     "text": [
      "0\n"
     ]
    }
   ],
   "source": [
    "print(len(l))"
   ]
  },
  {
   "cell_type": "code",
   "execution_count": 82,
   "metadata": {},
   "outputs": [],
   "source": [
    "# node class that create new node\n",
    "class Node:\n",
    "    def __init__(self, data):\n",
    "        self.data = data\n",
    "        self.next = None"
   ]
  },
  {
   "cell_type": "code",
   "execution_count": 83,
   "metadata": {},
   "outputs": [],
   "source": [
    "class LL:\n",
    "    def __init__(self):\n",
    "        self.head = None\n",
    "        self.n=0\n",
    "    \n",
    "    # adding from head\n",
    "    def insert_head(self,value):\n",
    "        new_node = Node(value)\n",
    "        new_node.next=self.head\n",
    "        self.head=new_node\n",
    "        self.n=self.n+1\n",
    "\n",
    "    #adding from tail\n",
    "    def insert_tail(self, value):\n",
    "        new_node = Node(value)\n",
    "        if self.head is None:\n",
    "            self.head = new_node\n",
    "        else:\n",
    "            curr = self.head\n",
    "            while curr.next != None:\n",
    "                curr = curr.next\n",
    "            curr.next = new_node\n",
    "        self.n = self.n + 1\n",
    "\n",
    "    def ins_val(self,value,after):\n",
    "        new_node = Node(value)\n",
    "        curr = self.head\n",
    "        while curr != None:\n",
    "            if curr.data == after:\n",
    "                new_node.next=curr.next\n",
    "                curr.next=new_node\n",
    "                self.n=self.n+1\n",
    "                return\n",
    "            else:\n",
    "                curr = curr.next\n",
    "        return \"value not found\"\n",
    "    \n",
    "    def del_head(self):\n",
    "        if self.head==None:\n",
    "            return \"NONE\"\n",
    "        self.head=self.head.next\n",
    "        self.n=self.n-1\n",
    "\n",
    "    def del_tail(self):\n",
    "        curr = self.head\n",
    "        if curr==None:\n",
    "            return\"Empty linked list\"\n",
    "        while curr.next.next!= None:\n",
    "            curr = curr.next\n",
    "        curr.next = None\n",
    "        self.n=self.n-1\n",
    "    def del_index(self,index):\n",
    "        if index<0 or index>=self.n:\n",
    "            return \"Invalid index\"\n",
    "        if index==0:\n",
    "            self.head=self.head.next\n",
    "            self.n=self.n-1\n",
    "            return\n",
    "        curr = self.head\n",
    "        for i in range(index-1):\n",
    "            curr = curr.next\n",
    "        curr.next = curr.next.next\n",
    "        self.n=self.n-1\n",
    "        return\n",
    "    \n",
    "    def del_val(self,value):\n",
    "        curr = self.head\n",
    "        while curr!=None:\n",
    "            if curr.next.data==value:\n",
    "                curr.next=curr.next.next\n",
    "                self.n=self.n-1\n",
    "                return\n",
    "            else:\n",
    "                curr = curr.next\n",
    "        return \"value not found\"\n",
    "        \n",
    "    def __str__(self):\n",
    "        curr=self.head\n",
    "        result=\"\"\n",
    "        while curr!=None:\n",
    "            result=str(curr.data)+\" \"+result\n",
    "            curr=curr.next\n",
    "        return result\n",
    "    \n",
    "    def traverse(self):\n",
    "        curr=self.head\n",
    "        result=''\n",
    "        while curr!=None:\n",
    "            result=result+str(curr.data)+\" \"\n",
    "            curr=curr.next\n",
    "        return result[:-1]\n"
   ]
  },
  {
   "cell_type": "code",
   "execution_count": 84,
   "metadata": {},
   "outputs": [],
   "source": [
    "l=LL()\n",
    "alp=LL()"
   ]
  },
  {
   "cell_type": "code",
   "execution_count": 85,
   "metadata": {},
   "outputs": [],
   "source": [
    "l.insert_head(1)\n",
    "l.insert_head(2)\n",
    "l.insert_head(3)\n",
    "l.insert_head(4)\n",
    "l.insert_tail(1)\n",
    "l.insert_tail(4)\n",
    "l.insert_tail(3)\n",
    "l.insert_tail(5)"
   ]
  },
  {
   "cell_type": "code",
   "execution_count": 86,
   "metadata": {},
   "outputs": [],
   "source": [
    "alp.insert_head('h')\n",
    "alp.insert_head('a')\n",
    "alp.insert_head('p')\n",
    "alp.insert_head('p')\n",
    "alp.insert_head('y')\n",
    "\n"
   ]
  },
  {
   "cell_type": "code",
   "execution_count": 87,
   "metadata": {},
   "outputs": [
    {
     "data": {
      "text/plain": [
       "'y p p a h'"
      ]
     },
     "execution_count": 87,
     "metadata": {},
     "output_type": "execute_result"
    }
   ],
   "source": [
    "alp.traverse()"
   ]
  },
  {
   "cell_type": "code",
   "execution_count": 88,
   "metadata": {},
   "outputs": [
    {
     "name": "stdout",
     "output_type": "stream",
     "text": [
      "h a p p y \n"
     ]
    }
   ],
   "source": [
    "#reverse\n",
    "print(alp)"
   ]
  },
  {
   "cell_type": "code",
   "execution_count": 89,
   "metadata": {},
   "outputs": [],
   "source": [
    "l.ins_val(45,2)"
   ]
  },
  {
   "cell_type": "code",
   "execution_count": 90,
   "metadata": {},
   "outputs": [],
   "source": [
    "l.del_head()"
   ]
  },
  {
   "cell_type": "code",
   "execution_count": 91,
   "metadata": {},
   "outputs": [],
   "source": [
    "l.del_tail()"
   ]
  },
  {
   "cell_type": "code",
   "execution_count": 92,
   "metadata": {},
   "outputs": [],
   "source": [
    "l.del_index(2)"
   ]
  },
  {
   "cell_type": "code",
   "execution_count": 93,
   "metadata": {},
   "outputs": [
    {
     "ename": "AttributeError",
     "evalue": "'NoneType' object has no attribute 'data'",
     "output_type": "error",
     "traceback": [
      "\u001b[1;31m---------------------------------------------------------------------------\u001b[0m",
      "\u001b[1;31mAttributeError\u001b[0m                            Traceback (most recent call last)",
      "Cell \u001b[1;32mIn[93], line 1\u001b[0m\n\u001b[1;32m----> 1\u001b[0m \u001b[43ml\u001b[49m\u001b[38;5;241;43m.\u001b[39;49m\u001b[43mdel_val\u001b[49m\u001b[43m(\u001b[49m\u001b[38;5;241;43m5\u001b[39;49m\u001b[43m)\u001b[49m\n",
      "Cell \u001b[1;32mIn[83], line 69\u001b[0m, in \u001b[0;36mLL.del_val\u001b[1;34m(self, value)\u001b[0m\n\u001b[0;32m     67\u001b[0m curr \u001b[38;5;241m=\u001b[39m \u001b[38;5;28mself\u001b[39m\u001b[38;5;241m.\u001b[39mhead\n\u001b[0;32m     68\u001b[0m \u001b[38;5;28;01mwhile\u001b[39;00m curr\u001b[38;5;241m!=\u001b[39m\u001b[38;5;28;01mNone\u001b[39;00m:\n\u001b[1;32m---> 69\u001b[0m     \u001b[38;5;28;01mif\u001b[39;00m \u001b[43mcurr\u001b[49m\u001b[38;5;241;43m.\u001b[39;49m\u001b[43mnext\u001b[49m\u001b[38;5;241;43m.\u001b[39;49m\u001b[43mdata\u001b[49m\u001b[38;5;241m==\u001b[39mvalue:\n\u001b[0;32m     70\u001b[0m         curr\u001b[38;5;241m.\u001b[39mnext\u001b[38;5;241m=\u001b[39mcurr\u001b[38;5;241m.\u001b[39mnext\u001b[38;5;241m.\u001b[39mnext\n\u001b[0;32m     71\u001b[0m         \u001b[38;5;28mself\u001b[39m\u001b[38;5;241m.\u001b[39mn\u001b[38;5;241m=\u001b[39m\u001b[38;5;28mself\u001b[39m\u001b[38;5;241m.\u001b[39mn\u001b[38;5;241m-\u001b[39m\u001b[38;5;241m1\u001b[39m\n",
      "\u001b[1;31mAttributeError\u001b[0m: 'NoneType' object has no attribute 'data'"
     ]
    }
   ],
   "source": [
    "l.del_val(5)"
   ]
  },
  {
   "cell_type": "code",
   "execution_count": 165,
   "metadata": {},
   "outputs": [
    {
     "name": "stdout",
     "output_type": "stream",
     "text": [
      "4\n"
     ]
    }
   ],
   "source": [
    "print((l.head.data))"
   ]
  },
  {
   "cell_type": "code",
   "execution_count": 96,
   "metadata": {},
   "outputs": [
    {
     "name": "stdout",
     "output_type": "stream",
     "text": [
      "60 50 40 30 20 10 -10 -20 -30 -40 -50 -60 "
     ]
    }
   ],
   "source": [
    "class node:\n",
    "    def __init__(self, data):\n",
    "        self.data=data\n",
    "        self.next=None\n",
    "\n",
    "class linkedlist:\n",
    "    def __init__(self):\n",
    "        self.head=None\n",
    "        self.n=0\n",
    "    \n",
    "    def insert_head(self,value):\n",
    "        new_node=node(value)\n",
    "        new_node.next=self.head\n",
    "        self.head=new_node\n",
    "\n",
    "    def append(self, value):\n",
    "        new_node = node(value)\n",
    "        if self.head is None:\n",
    "            self.head = new_node\n",
    "        else:\n",
    "            curr = self.head\n",
    "            while curr.next is not None:\n",
    "                curr = curr.next\n",
    "            curr.next = new_node\n",
    "\n",
    "            \n",
    "            \n",
    "    def traverse(self):\n",
    "        current=self.head\n",
    "        while current!=None:\n",
    "            print(current.data,end=\" \")\n",
    "            current=current.next\n",
    "    \n",
    "\n",
    "l=linkedlist()\n",
    "l.insert_head(10)\n",
    "l.insert_head(20)\n",
    "l.insert_head(30)\n",
    "l.insert_head(40)\n",
    "l.insert_head(50)\n",
    "l.insert_head(60)\n",
    "\n",
    "l.append(-10)\n",
    "l.append(-20)\n",
    "l.append(-30)\n",
    "l.append(-40)\n",
    "l.append(-50)\n",
    "l.append(-60)\n",
    "\n",
    "l.traverse()\n",
    "\n",
    "\n"
   ]
  },
  {
   "cell_type": "code",
   "execution_count": 11,
   "metadata": {},
   "outputs": [],
   "source": [
    "l=[]\n",
    "l=[\"raza\",\"hammad\",8,64,True,0.5]"
   ]
  },
  {
   "cell_type": "code",
   "execution_count": 8,
   "metadata": {},
   "outputs": [
    {
     "name": "stdout",
     "output_type": "stream",
     "text": [
      "['raza', 'hammad', 8, 64, True, 0.5]\n"
     ]
    }
   ],
   "source": [
    "a=raza\n",
    "b=hammad\n",
    "c=8\n",
    "d=64\n",
    "d=true\n",
    "e=0.5"
   ]
  },
  {
   "cell_type": "code",
   "execution_count": null,
   "metadata": {},
   "outputs": [],
   "source": []
  }
 ],
 "metadata": {
  "kernelspec": {
   "display_name": "Python 3",
   "language": "python",
   "name": "python3"
  },
  "language_info": {
   "codemirror_mode": {
    "name": "ipython",
    "version": 3
   },
   "file_extension": ".py",
   "mimetype": "text/x-python",
   "name": "python",
   "nbconvert_exporter": "python",
   "pygments_lexer": "ipython3",
   "version": "3.11.9"
  }
 },
 "nbformat": 4,
 "nbformat_minor": 2
}
