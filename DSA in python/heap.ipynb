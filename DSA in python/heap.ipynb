{
 "cells": [
  {
   "cell_type": "code",
   "execution_count": 3,
   "metadata": {},
   "outputs": [
    {
     "name": "stdout",
     "output_type": "stream",
     "text": [
      "23CS008\n",
      "Heapified list: [10, 20, 30, 50, 40]\n"
     ]
    }
   ],
   "source": [
    "import heapq\n",
    "\n",
    "# Initialize an empty heap\n",
    "min_heap = []\n",
    "\n",
    "# Insert elements into the heap\n",
    "heapq.heappush(min_heap, 10)\n",
    "heapq.heappush(min_heap, 20)\n",
    "heapq.heappush(min_heap, 5)\n",
    "heapq.heappush(min_heap, 15)\n",
    "\n",
    "# Peek at the smallest element\n",
    "print(\"23CS008\")\n",
    "\n",
    "print(\"Heapified list:\", list_data)  # Output: [10, 20, 30, 50, 40]\n"
   ]
  },
  {
   "cell_type": "code",
   "execution_count": 4,
   "metadata": {},
   "outputs": [
    {
     "name": "stdout",
     "output_type": "stream",
     "text": [
      "Initial heap: [5, 10, 15, 20, 25]\n",
      "Deleted root element: 5\n",
      "Heap after deletion: [10, 20, 15, 25]\n"
     ]
    }
   ],
   "source": [
    "import heapq\n",
    "\n",
    "# Function to delete the root (smallest) element from a min-heap\n",
    "def delete_root(heap):\n",
    "    if len(heap) == 0:\n",
    "        print(\"Heap is empty!\")\n",
    "        return\n",
    "    # Remove the smallest element (root)\n",
    "    smallest = heapq.heappop(heap)\n",
    "    print(\"Deleted root element:\", smallest)\n",
    "\n",
    "# Example usage\n",
    "min_heap = [5, 10, 15, 20, 25]\n",
    "heapq.heapify(min_heap)  # Ensure it is a heap\n",
    "print(\"Initial heap:\", min_heap)\n",
    "\n",
    "# Delete the root element\n",
    "delete_root(min_heap)\n",
    "print(\"Heap after deletion:\", min_heap)\n"
   ]
  },
  {
   "cell_type": "code",
   "execution_count": null,
   "metadata": {},
   "outputs": [],
   "source": []
  }
 ],
 "metadata": {
  "kernelspec": {
   "display_name": "Python 3",
   "language": "python",
   "name": "python3"
  },
  "language_info": {
   "codemirror_mode": {
    "name": "ipython",
    "version": 3
   },
   "file_extension": ".py",
   "mimetype": "text/x-python",
   "name": "python",
   "nbconvert_exporter": "python",
   "pygments_lexer": "ipython3",
   "version": "3.11.9"
  }
 },
 "nbformat": 4,
 "nbformat_minor": 2
}
